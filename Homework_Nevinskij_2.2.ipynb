{
 "cells": [
  {
   "cell_type": "markdown",
   "id": "3a7d48cc-67c0-43f8-9919-15426a53b9be",
   "metadata": {},
   "source": [
    "#### Задание 1"
   ]
  },
  {
   "cell_type": "code",
   "execution_count": 59,
   "id": "df6401bb-370f-45c8-9704-68d0b6074966",
   "metadata": {},
   "outputs": [
    {
     "name": "stdout",
     "output_type": "stream",
     "text": [
      "{98, 35, 15, 213, 54, 119}\n"
     ]
    }
   ],
   "source": [
    "#Исходные данные\n",
    "ids = {\n",
    "    'user1': [213, 213, 213, 15, 213],\n",
    "       'user2': [54, 54, 119, 119, 119],\n",
    "       'user3': [213, 98, 98, 35]\n",
    "}\n",
    "#Складываем значения в словаре ids\n",
    "list_sum=sum(ids.values(), [])\n",
    "#Выводим результат суммирования, преобразованный в множество (во множествах все дублирующиеся значение удаляются)\n",
    "print (set(list_sum))\n"
   ]
  },
  {
   "cell_type": "markdown",
   "id": "c19d6763-870a-4c06-ac06-fb3b84ef0852",
   "metadata": {},
   "source": [
    "#### Задание 2"
   ]
  },
  {
   "cell_type": "code",
   "execution_count": 82,
   "id": "d4793065-8705-42fd-8463-2879ce7bbe78",
   "metadata": {},
   "outputs": [
    {
     "name": "stdout",
     "output_type": "stream",
     "text": [
      "Поисковых запросов, содержащих 2 слов(а): 42.86%\n",
      "Поисковых запросов, содержащих 3 слов(а): 57.14%\n"
     ]
    }
   ],
   "source": [
    "# Исходные данные\n",
    "queries = [\n",
    "    'смотреть сериалы онлайн',\n",
    "    'новости спорта',\n",
    "    'афиша кино',\n",
    "    'курс доллара',\n",
    "    'сериалы этим летом',\n",
    "    'курс по питону',\n",
    "    'сериалы про спорт',\n",
    "]\n",
    "\n",
    "# Создаем пустой словарь для заполнения \n",
    "words = {}\n",
    "\n",
    "# Считаем количество слов в запросах, добавляем в словарь\n",
    "for query in queries:\n",
    "    value = len(query.split())\n",
    "    words[value] = words.get(value, 0) + 1\n",
    "\n",
    "# Вычисление процента для каждого количества слов\n",
    "total_queries = len(queries)\n",
    "for key, value in sorted(words.items()):\n",
    "    percentage = (value / total_queries) * 100\n",
    "    print(f\"Поисковых запросов, содержащих {key} слов(а): {percentage:.2f}%\")"
   ]
  }
 ],
 "metadata": {
  "kernelspec": {
   "display_name": "Python 3 (ipykernel)",
   "language": "python",
   "name": "python3"
  },
  "language_info": {
   "codemirror_mode": {
    "name": "ipython",
    "version": 3
   },
   "file_extension": ".py",
   "mimetype": "text/x-python",
   "name": "python",
   "nbconvert_exporter": "python",
   "pygments_lexer": "ipython3",
   "version": "3.12.7"
  }
 },
 "nbformat": 4,
 "nbformat_minor": 5
}

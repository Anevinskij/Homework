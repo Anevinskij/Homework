{
 "cells": [
  {
   "cell_type": "markdown",
   "id": "26e352c0-469f-4466-9992-0b229c62d15a",
   "metadata": {},
   "source": [
    "# Задание № 1"
   ]
  },
  {
   "cell_type": "code",
   "execution_count": 7,
   "id": "48b2e4bb-b8ed-4b6b-aede-81a1dd73a01a",
   "metadata": {},
   "outputs": [
    {
     "name": "stdin",
     "output_type": "stream",
     "text": [
      "Введите слово: testing\n"
     ]
    },
    {
     "name": "stdout",
     "output_type": "stream",
     "text": [
      "t\n"
     ]
    }
   ],
   "source": [
    "# Ввод слова пользователем\n",
    "word=input('Введите слово:')\n",
    "# Проверка на четность длины слова\n",
    "if len(word)%2==1:\n",
    "    # Если длина нечетная, ваыводим среднюю букву\n",
    "    middle_index = len(word)//2\n",
    "    print(word[middle_index])\n",
    "else:\n",
    "    # Если длина четная, выводим две средних буквы\n",
    "    middle_index_1 = len(word)//2-1\n",
    "    middle_index_2 = len(word)//2\n",
    "    print(word[middle_index_1:middle_index_2+1])"
   ]
  },
  {
   "cell_type": "markdown",
   "id": "975df191-e4ca-4fbc-b50f-ac9664d2d6bf",
   "metadata": {},
   "source": [
    "# Задание № 2"
   ]
  },
  {
   "cell_type": "code",
   "execution_count": 8,
   "id": "d33d0b38-bec8-4a3f-84ba-702dd7fb3990",
   "metadata": {},
   "outputs": [
    {
     "name": "stdout",
     "output_type": "stream",
     "text": [
      "Идеальные пары:\n",
      "Alex и Emma\n",
      "Arthur и Kate\n",
      "John и Kira\n",
      "Peter и Liza\n",
      "Richard и Trisha\n"
     ]
    }
   ],
   "source": [
    "# Список юношей\n",
    "boys=['Peter','Alex','John','Arthur','Richard']\n",
    "#boys=['Peter','Alex','John','Arthur','Richard','Michael']\n",
    "# Список девушек\n",
    "girls=['Kate','Liza','Kira','Emma','Trisha']\n",
    "\n",
    "# Сортируем списки\n",
    "boys_by_alphabet=sorted(boys)\n",
    "girls_by_alphabet=sorted(girls)\n",
    "\n",
    "# Проверяем равенство пар\n",
    "if len(boys)==len(girls):\n",
    "    print('Идеальные пары:')\n",
    "    \n",
    "    # Создаем пары и выводим их\n",
    "    pairs=zip(boys_by_alphabet,girls_by_alphabet)\n",
    "    for boy, girl in pairs:\n",
    "        print(f'{boy} и {girl}')\n",
    "else:\n",
    "    print('Внимание, кто-то может остаться без пары!')\n",
    "\n",
    "    "
   ]
  }
 ],
 "metadata": {
  "kernelspec": {
   "display_name": "Python 3 (ipykernel)",
   "language": "python",
   "name": "python3"
  },
  "language_info": {
   "codemirror_mode": {
    "name": "ipython",
    "version": 3
   },
   "file_extension": ".py",
   "mimetype": "text/x-python",
   "name": "python",
   "nbconvert_exporter": "python",
   "pygments_lexer": "ipython3",
   "version": "3.12.7"
  }
 },
 "nbformat": 4,
 "nbformat_minor": 5
}

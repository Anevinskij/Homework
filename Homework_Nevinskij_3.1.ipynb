{
 "cells": [
  {
   "cell_type": "markdown",
   "id": "59217ea4-9ccc-4901-849b-342666b59873",
   "metadata": {},
   "source": [
    "#### Задание 1"
   ]
  },
  {
   "cell_type": "code",
   "execution_count": 14,
   "id": "13ea440e-3637-4d45-adbe-431eb73e87cc",
   "metadata": {},
   "outputs": [
    {
     "name": "stdin",
     "output_type": "stream",
     "text": [
      "Введите первое число: 44\n",
      "Введите второе число: 15\n"
     ]
    },
    {
     "name": "stdout",
     "output_type": "stream",
     "text": [
      "Сумма диапазона:  885\n"
     ]
    }
   ],
   "source": [
    "def sum_distance(from_, to_):\n",
    "    if from_ > to_:\n",
    "        from_, to_= to_, from_\n",
    "    return sum(range(from_, to_ + 1))\n",
    "from_ = int(input('Введите первое число:'))\n",
    "to_ = int(input('Введите второе число:'))\n",
    "print(\"Сумма диапазона: \", sum_distance(from_, to_))"
   ]
  },
  {
   "cell_type": "markdown",
   "id": "f60c452a-349e-4453-8693-bef5fb263759",
   "metadata": {},
   "source": [
    "#### Задание 2"
   ]
  },
  {
   "cell_type": "code",
   "execution_count": 27,
   "id": "92e88d38-ec22-46a1-a6ff-5e210d11a591",
   "metadata": {},
   "outputs": [
    {
     "name": "stdin",
     "output_type": "stream",
     "text": [
      "Введите текст: один\n",
      "Введите количество символов, на которое необходимо обрезать текст слева:  1\n",
      "Введите количество повторений текста:  \n"
     ]
    },
    {
     "name": "stdout",
     "output_type": "stream",
     "text": [
      "дин\n"
     ]
    }
   ],
   "source": [
    "def trim_and_repeat(text, offset, repetitions):\n",
    "    trimmed = text[offset:]\n",
    "    repeated = trimmed * repetitions\n",
    "    return repeated\n",
    "text = str(input(\"Введите текст:\"))\n",
    "offset = int(input(\"Введите количество символов, на которое необходимо обрезать текст слева: \",) or 0)\n",
    "repetitions = int(input(\"Введите количество повторений текста: \",) or 1)\n",
    "print(trim_and_repeat(text, offset, repetitions))"
   ]
  }
 ],
 "metadata": {
  "kernelspec": {
   "display_name": "Python 3 (ipykernel)",
   "language": "python",
   "name": "python3"
  },
  "language_info": {
   "codemirror_mode": {
    "name": "ipython",
    "version": 3
   },
   "file_extension": ".py",
   "mimetype": "text/x-python",
   "name": "python",
   "nbconvert_exporter": "python",
   "pygments_lexer": "ipython3",
   "version": "3.12.7"
  }
 },
 "nbformat": 4,
 "nbformat_minor": 5
}

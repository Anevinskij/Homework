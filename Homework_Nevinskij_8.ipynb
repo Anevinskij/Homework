{
 "cells": [
  {
   "cell_type": "code",
   "execution_count": 3,
   "metadata": {},
   "outputs": [],
   "source": [
    "#Задание № 1"
   ]
  },
  {
   "cell_type": "code",
   "execution_count": 1,
   "metadata": {},
   "outputs": [
    {
     "name": "stdout",
     "output_type": "stream",
     "text": [
      "Заголовок: sunt aut facere repellat provident occaecati excepturi optio reprehenderit\n",
      "Тело: quia et suscipit\n",
      "suscipit recusandae consequuntur expedita et cum\n",
      "reprehenderit molestiae ut ut quas totam\n",
      "nostrum rerum est autem sunt rem eveniet architecto\n",
      "\n",
      "Заголовок: qui est esse\n",
      "Тело: est rerum tempore vitae\n",
      "sequi sint nihil reprehenderit dolor beatae ea dolores neque\n",
      "fugiat blanditiis voluptate porro vel nihil molestiae ut reiciendis\n",
      "qui aperiam non debitis possimus qui neque nisi nulla\n",
      "\n",
      "Заголовок: ea molestias quasi exercitationem repellat qui ipsa sit aut\n",
      "Тело: et iusto sed quo iure\n",
      "voluptatem occaecati omnis eligendi aut ad\n",
      "voluptatem doloribus vel accusantium quis pariatur\n",
      "molestiae porro eius odio et labore et velit aut\n",
      "\n",
      "Заголовок: eum et est occaecati\n",
      "Тело: ullam et saepe reiciendis voluptatem adipisci\n",
      "sit amet autem assumenda provident rerum culpa\n",
      "quis hic commodi nesciunt rem tenetur doloremque ipsam iure\n",
      "quis sunt voluptatem rerum illo velit\n",
      "\n",
      "Заголовок: nesciunt quas odio\n",
      "Тело: repudiandae veniam quaerat sunt sed\n",
      "alias aut fugiat sit autem sed est\n",
      "voluptatem omnis possimus esse voluptatibus quis\n",
      "est aut tenetur dolor neque\n",
      "\n"
     ]
    }
   ],
   "source": [
    "import requests\n",
    "\n",
    "# Отправка GET-запроса к /posts\n",
    "response = requests.get('https://jsonplaceholder.typicode.com/posts')\n",
    "\n",
    "# Проверка успешности запроса\n",
    "if response.status_code == 200:\n",
    "    posts = response.json()  # Извлечение данных в формате JSON\n",
    "\n",
    "    # Вывод заголовков и тел первых 5 постов\n",
    "    for post in posts[:5]:\n",
    "        print(f\"Заголовок: {post['title']}\")\n",
    "        print(f\"Тело: {post['body']}\")\n",
    "        print()  # Пустая строка для разделения\n",
    "else:\n",
    "    print(f\"Ошибка: {response.status_code}\")"
   ]
  },
  {
   "cell_type": "code",
   "execution_count": 4,
   "metadata": {},
   "outputs": [],
   "source": [
    "#Задание № 2"
   ]
  },
  {
   "cell_type": "code",
   "execution_count": 2,
   "metadata": {},
   "outputs": [
    {
     "name": "stdout",
     "output_type": "stream",
     "text": [
      "Текущая температура в городе Тверь: 0.2°C\n",
      "Описание погоды: broken clouds\n"
     ]
    }
   ],
   "source": [
    "import requests\n",
    "\n",
    "\n",
    "API_KEY = 'e0335f9b269bc7ea69c3f5a424307dcb' \n",
    "BASE_URL = 'https://api.openweathermap.org/data/2.5/weather'\n",
    "\n",
    "# Получение названия города от пользователя\n",
    "city = input(\"Введите название города: \")\n",
    "\n",
    "# Формирование полного URL\n",
    "url = f\"{BASE_URL}?q={city}&appid={API_KEY}&units=metric\"\n",
    "\n",
    "# Отправка GET-запроса к API\n",
    "response = requests.get(url)\n",
    "\n",
    "# Проверка успешности запроса\n",
    "if response.status_code == 200:\n",
    "    data = response.json()\n",
    "    # Извлечение температуры и описания погоды\n",
    "    temperature = data['main']['temp']\n",
    "    weather_description = data['weather'][0]['description']\n",
    "    \n",
    "    # Вывод результатов\n",
    "    print(f\"Текущая температура в городе {city}: {temperature}°C\")\n",
    "    print(f\"Описание погоды: {weather_description}\")\n",
    "else:\n",
    "    print(f\"Ошибка: {response.status_code}. Проверьте название города или ваш API-ключ.\")"
   ]
  }
 ],
 "metadata": {
  "kernelspec": {
   "display_name": "base",
   "language": "python",
   "name": "python3"
  },
  "language_info": {
   "codemirror_mode": {
    "name": "ipython",
    "version": 3
   },
   "file_extension": ".py",
   "mimetype": "text/x-python",
   "name": "python",
   "nbconvert_exporter": "python",
   "pygments_lexer": "ipython3",
   "version": "3.12.7"
  }
 },
 "nbformat": 4,
 "nbformat_minor": 2
}
